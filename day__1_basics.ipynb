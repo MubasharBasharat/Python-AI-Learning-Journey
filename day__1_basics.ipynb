{
  "nbformat": 4,
  "nbformat_minor": 0,
  "metadata": {
    "colab": {
      "provenance": [],
      "authorship_tag": "ABX9TyPvEEY8VnJlpOwV2qxG5e2H",
      "include_colab_link": true
    },
    "kernelspec": {
      "name": "python3",
      "display_name": "Python 3"
    },
    "language_info": {
      "name": "python"
    }
  },
  "cells": [
    {
      "cell_type": "markdown",
      "metadata": {
        "id": "view-in-github",
        "colab_type": "text"
      },
      "source": [
        "<a href=\"https://colab.research.google.com/github/MubasharBasharat/Python-AI-Learning-Journey/blob/main/day__1_basics.ipynb\" target=\"_parent\"><img src=\"https://colab.research.google.com/assets/colab-badge.svg\" alt=\"Open In Colab\"/></a>"
      ]
    },
    {
      "cell_type": "code",
      "source": [
        "name = \"Mubashar\"\n",
        "age = 23\n",
        "is_ai_learner = True\n",
        "print(name, age, is_ai_learner)\n"
      ],
      "metadata": {
        "colab": {
          "base_uri": "https://localhost:8080/"
        },
        "id": "YBiS205Iwq63",
        "outputId": "3504431b-f331-4725-d6a5-a799636a84cc"
      },
      "execution_count": 1,
      "outputs": [
        {
          "output_type": "stream",
          "name": "stdout",
          "text": [
            "Mubashar 23 True\n"
          ]
        }
      ]
    },
    {
      "cell_type": "code",
      "source": [
        "age = int(input(\"Enter your age: \"))\n",
        "if age >= 18:\n",
        "    print(\"You're an adult.\")\n",
        "else:\n",
        "    print(\"You're not an adult.\")\n"
      ],
      "metadata": {
        "colab": {
          "base_uri": "https://localhost:8080/"
        },
        "id": "lT9vAGc-ws0E",
        "outputId": "54fe6883-42ef-4f0e-d121-8fe1f95d60b4"
      },
      "execution_count": 2,
      "outputs": [
        {
          "output_type": "stream",
          "name": "stdout",
          "text": [
            "Enter your age: 23\n",
            "You're an adult.\n"
          ]
        }
      ]
    },
    {
      "cell_type": "code",
      "source": [
        "num1 = int(input(\"Enter first number: \"))\n",
        "num2 = int(input(\"Enter second number: \"))\n",
        "\n",
        "print(\"First number:\", num1)\n",
        "print(\"Second number:\", num2)\n",
        "print(\"Sum is:\", num1 + num2)\n",
        "print(\"Difference is:\", num2 - num1)\n",
        "print(\"Product is:\", num1 * num2)\n",
        "print(\"Division is:\", num2 / num1)\n",
        "print(\"Remainder is:\", num2 % num1)\n",
        "print(\"Power is:\", num2 ** num1)\n"
      ],
      "metadata": {
        "colab": {
          "base_uri": "https://localhost:8080/"
        },
        "id": "Kk2LcFxYyhA_",
        "outputId": "8d612098-9ad7-4387-eba4-a3b00d97125a"
      },
      "execution_count": 3,
      "outputs": [
        {
          "output_type": "stream",
          "name": "stdout",
          "text": [
            "Enter first number: 10\n",
            "Enter second number: 20\n",
            "First number: 10\n",
            "Second number: 20\n",
            "Sum is: 30\n",
            "Difference is: 10\n",
            "Product is: 200\n",
            "Division is: 2.0\n",
            "Remainder is: 0\n",
            "Power is: 10240000000000\n"
          ]
        }
      ]
    },
    {
      "cell_type": "code",
      "source": [
        "num = int(input(\"Enter a number: \"))\n",
        "if num % 2 == 0:\n",
        "    print(\"Entered number is even\")\n",
        "else:\n",
        "    print(\"Entered number is odd\")\n",
        "\n"
      ],
      "metadata": {
        "colab": {
          "base_uri": "https://localhost:8080/"
        },
        "id": "dKLuZYyUylc-",
        "outputId": "76d55242-ab47-4acd-f229-a3b543d492c2"
      },
      "execution_count": 4,
      "outputs": [
        {
          "output_type": "stream",
          "name": "stdout",
          "text": [
            "Enter a number: 2025\n",
            "Entered number is odd\n"
          ]
        }
      ]
    },
    {
      "cell_type": "code",
      "source": [
        "num1 = int(input(\"Enter first number: \"))\n",
        "num2 = int(input(\"Enter second number: \"))\n",
        "\n",
        "if num1 > num2:\n",
        "    print(\"First number is greater\")\n",
        "elif num2 > num1:\n",
        "    print(\"Second number is greater\")\n",
        "else:\n",
        "    print(\"Both numbers are equal\")\n"
      ],
      "metadata": {
        "colab": {
          "base_uri": "https://localhost:8080/"
        },
        "id": "snRhIorLyqid",
        "outputId": "aa4c6503-31aa-4294-a711-71b650083429"
      },
      "execution_count": 5,
      "outputs": [
        {
          "output_type": "stream",
          "name": "stdout",
          "text": [
            "Enter first number: 23\n",
            "Enter second number: 23\n",
            "Both numbers are equal\n"
          ]
        }
      ]
    },
    {
      "cell_type": "code",
      "source": [
        "year = int(input(\"Enter year to check if it's a leap year: \"))\n",
        "\n",
        "if year % 4 == 0:\n",
        "    if year % 100 == 0:\n",
        "        if year % 400 == 0:\n",
        "            print(\"It's a leap year\")\n",
        "        else:\n",
        "            print(\"It's not a leap year\")\n",
        "    else:\n",
        "        print(\"It's a leap year\")\n",
        "else:\n",
        "    print(\"It's not a leap year\")\n"
      ],
      "metadata": {
        "colab": {
          "base_uri": "https://localhost:8080/"
        },
        "id": "wdxmp4Qhyweu",
        "outputId": "f4277aeb-21b4-4696-fc8a-ad9c781e4dd4"
      },
      "execution_count": 6,
      "outputs": [
        {
          "output_type": "stream",
          "name": "stdout",
          "text": [
            "Enter year to check if it's a leap year: 1900\n",
            "It's not a leap year\n"
          ]
        }
      ]
    },
    {
      "cell_type": "code",
      "source": [],
      "metadata": {
        "id": "NKecQkioy0KB"
      },
      "execution_count": null,
      "outputs": []
    }
  ]
}