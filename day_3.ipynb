{
  "nbformat": 4,
  "nbformat_minor": 0,
  "metadata": {
    "colab": {
      "provenance": [],
      "authorship_tag": "ABX9TyMWWtjtJFxtWTc2clElOMNH",
      "include_colab_link": true
    },
    "kernelspec": {
      "name": "python3",
      "display_name": "Python 3"
    },
    "language_info": {
      "name": "python"
    }
  },
  "cells": [
    {
      "cell_type": "markdown",
      "metadata": {
        "id": "view-in-github",
        "colab_type": "text"
      },
      "source": [
        "<a href=\"https://colab.research.google.com/github/MubasharBasharat/Python-AI-Learning-Journey/blob/main/day_3.ipynb\" target=\"_parent\"><img src=\"https://colab.research.google.com/assets/colab-badge.svg\" alt=\"Open In Colab\"/></a>"
      ]
    },
    {
      "cell_type": "code",
      "execution_count": null,
      "metadata": {
        "colab": {
          "base_uri": "https://localhost:8080/"
        },
        "id": "6Q1BMSfgX7L7",
        "outputId": "bf9d1149-a668-4f1e-b0c9-9a1276efcc2b"
      },
      "outputs": [
        {
          "output_type": "stream",
          "name": "stdout",
          "text": [
            "hello_world\n"
          ]
        }
      ],
      "source": [
        "def say_hello():\n",
        "    print(\"hello_world\")\n",
        "say_hello()"
      ]
    },
    {
      "cell_type": "code",
      "source": [
        "def say_name(name):\n",
        "    print(f\"hello {name}\")\n",
        "say_name(\"zareesha\")"
      ],
      "metadata": {
        "colab": {
          "base_uri": "https://localhost:8080/"
        },
        "id": "ik0baeCeahGb",
        "outputId": "c1998c6b-f062-4ece-da4c-37bbff328230"
      },
      "execution_count": null,
      "outputs": [
        {
          "output_type": "stream",
          "name": "stdout",
          "text": [
            "hello zareesha\n"
          ]
        }
      ]
    },
    {
      "cell_type": "code",
      "source": [
        "def add(a,b):\n",
        "    return a+b\n",
        "\n",
        "sum=add(\"a\",\"b\")\n",
        "print(f\"sum is {sum}\")"
      ],
      "metadata": {
        "colab": {
          "base_uri": "https://localhost:8080/"
        },
        "id": "7k8rucuhalnM",
        "outputId": "1d3b82af-0421-498f-9b78-253dc77c2a9e"
      },
      "execution_count": null,
      "outputs": [
        {
          "output_type": "stream",
          "name": "stdout",
          "text": [
            "sum is ab\n"
          ]
        }
      ]
    },
    {
      "cell_type": "code",
      "source": [
        "def greet(name=\"AI Engineer\"):\n",
        "    print(f\"Hello {name}!\")\n",
        "\n",
        "greet()          # Uses default\n",
        "greet(\"Mubashar\") # Overrides default\n"
      ],
      "metadata": {
        "colab": {
          "base_uri": "https://localhost:8080/"
        },
        "id": "W12rTdARbBOy",
        "outputId": "005ca5f5-55a1-4361-a3f4-c5f79cc81e3f"
      },
      "execution_count": null,
      "outputs": [
        {
          "output_type": "stream",
          "name": "stdout",
          "text": [
            "Hello AI Engineer!\n",
            "Hello Mubashar!\n"
          ]
        }
      ]
    },
    {
      "cell_type": "code",
      "source": [
        "def get_grade(marks):\n",
        "    if marks>90:\n",
        "       print(\"you got A grade\")\n",
        "    else:\n",
        "        print(\"you are fail\")\n",
        "\n",
        "get_grade(89)\n"
      ],
      "metadata": {
        "colab": {
          "base_uri": "https://localhost:8080/"
        },
        "id": "d6P8tOOgbIug",
        "outputId": "7ee3cbaa-3531-490f-9337-a769251d373f"
      },
      "execution_count": null,
      "outputs": [
        {
          "output_type": "stream",
          "name": "stdout",
          "text": [
            "you are fail\n"
          ]
        }
      ]
    },
    {
      "cell_type": "code",
      "source": [
        "def operations(a,b):\n",
        "    sum=a+b\n",
        "    diffreence=a-b\n",
        "    return sum,diffreence\n",
        "\n",
        "sum,diff=operations(10,5)\n",
        "print(f\"sum is {sum} difference is {diff}\")"
      ],
      "metadata": {
        "colab": {
          "base_uri": "https://localhost:8080/"
        },
        "id": "ufdACS3keLvx",
        "outputId": "bbadf889-2695-40e4-a012-b68f5c31b342"
      },
      "execution_count": null,
      "outputs": [
        {
          "output_type": "stream",
          "name": "stdout",
          "text": [
            "sum is 15 difference is 5\n"
          ]
        }
      ]
    },
    {
      "cell_type": "code",
      "source": [
        "fruits=[1,2,3,4,5]\n",
        "fruits[0]=10\n",
        "fruits.append(1)\n",
        "fruits.remove(5)\n",
        "print(fruits[0:5\n",
        "             ])"
      ],
      "metadata": {
        "colab": {
          "base_uri": "https://localhost:8080/"
        },
        "id": "esSIZzk4S-eY",
        "outputId": "553a4191-d54a-418d-f58c-c8670118c719"
      },
      "execution_count": null,
      "outputs": [
        {
          "output_type": "stream",
          "name": "stdout",
          "text": [
            "[10, 2, 3, 4, 1]\n"
          ]
        }
      ]
    },
    {
      "cell_type": "code",
      "source": [
        "tuple1=(10,20)\n",
        "print(tuple1)\n"
      ],
      "metadata": {
        "colab": {
          "base_uri": "https://localhost:8080/"
        },
        "id": "-KPraRlkUBN1",
        "outputId": "4c21c3da-8fe2-4403-9734-3bc70dac8d95"
      },
      "execution_count": null,
      "outputs": [
        {
          "output_type": "stream",
          "name": "stdout",
          "text": [
            "(10, 20)\n"
          ]
        }
      ]
    },
    {
      "cell_type": "code",
      "source": [
        "student={\n",
        "    \"name\":\"Mubashar\",\n",
        "    \"age\":20,\n",
        "    \"is_ai_learner\":True\n",
        "}\n"
      ],
      "metadata": {
        "colab": {
          "base_uri": "https://localhost:8080/"
        },
        "id": "_B7u8i66UwkS",
        "outputId": "baf379f0-0607-4ff1-978d-210f79c2fcc0"
      },
      "execution_count": null,
      "outputs": [
        {
          "output_type": "stream",
          "name": "stdout",
          "text": [
            "20\n"
          ]
        }
      ]
    },
    {
      "cell_type": "code",
      "source": [
        "students=[]\n",
        "\n",
        "for i in range(0,3):\n",
        "    s={}\n",
        "    name=input(\"enter student name\")\n",
        "    s[\"name\"]=name\n",
        "    s['age']=23\n",
        "    subjects=[]\n",
        "    for j in range(2):\n",
        "        subject=input(\"enter subject name\")\n",
        "        subjects.append(subject)\n",
        "    s[\"subjects\"]=subjects\n",
        "    students.append(s)\n",
        "\n",
        "\n",
        "print(students)\n",
        "\n"
      ],
      "metadata": {
        "colab": {
          "base_uri": "https://localhost:8080/"
        },
        "id": "FN0B1ivRVUMJ",
        "outputId": "f2733adc-7168-4de0-e862-ea70d4b356bf"
      },
      "execution_count": 1,
      "outputs": [
        {
          "output_type": "stream",
          "name": "stdout",
          "text": [
            "enter student namemubashar\n",
            "enter subject namec++\n",
            "enter subject nameoop\n",
            "enter student nameali\n",
            "enter subject namedevops\n",
            "enter subject namemath\n",
            "enter student nameahmed\n",
            "enter subject nameapp dev\n",
            "enter subject nameweb dev\n",
            "[{'name': 'mubashar', 'age': 23, 'subjects': ['c++', 'oop']}, {'name': 'ali', 'age': 23, 'subjects': ['devops', 'math']}, {'name': 'ahmed', 'age': 23, 'subjects': ['app dev', 'web dev']}]\n"
          ]
        }
      ]
    },
    {
      "cell_type": "code",
      "source": [
        "def calculate_average_age(students):\n",
        "    average=0\n",
        "    for student in students:\n",
        "        average=average+student[\"age\"]\n",
        "    average=average/len(students)\n",
        "    return average\n",
        "\n",
        "def find_oldest_student(students):\n",
        "    highestage=0\n",
        "    highest_age_students=[]\n",
        "    for student in students:\n",
        "\n",
        "        if student[\"age\"]>highestage:\n",
        "            highest_age_students.clear()\n",
        "            highest_age_students.append(student[\"name\"])\n",
        "            highestage = student[\"age\"]\n",
        "        elif student[\"age\"] == highestage:\n",
        "            highest_age_students.append(student[\"name\"])\n",
        "    return highest_age_students\n",
        "\n",
        "\n",
        "\n",
        "def find_youngest_students(students):\n",
        "    lowest_age=0\n",
        "    lowest_age=students[0][\"age\"]\n",
        "    lowest_age_list=[]\n",
        "    for student in students[1:]:\n",
        "        if student[\"age\"]<lowest_age:\n",
        "           lowest_age_list.clear()\n",
        "           lowest_age_list.append(student[\"name\"])\n",
        "           lowest_age=student[\"age\"]\n",
        "        elif student[\"age\"]==lowest_age:\n",
        "           lowest_age_list.append(student[\"name\"])\n",
        "    print(\"students with lowest age are\",lowest_age_list)\n",
        "students = [\n",
        "    {\"name\": \"Ali\", \"age\": 23},\n",
        "    {\"name\": \"Sara\", \"age\": 20},\n",
        "    {\"name\": \"Ahmed\", \"age\": 20},\n",
        "    {\"name\": \"Zain\", \"age\": 25}\n",
        "]\n",
        "find_youngest_students(students)\n",
        "# print(find_oldest_student(students))"
      ],
      "metadata": {
        "id": "97V3e_4mXOBj",
        "colab": {
          "base_uri": "https://localhost:8080/"
        },
        "outputId": "e713028f-158a-41ff-c434-4e220aad2563"
      },
      "execution_count": 2,
      "outputs": [
        {
          "output_type": "stream",
          "name": "stdout",
          "text": [
            "students with lowest age are ['Sara', 'Ahmed']\n"
          ]
        }
      ]
    },
    {
      "cell_type": "code",
      "source": [],
      "metadata": {
        "id": "3iNFluN3TLl1"
      },
      "execution_count": null,
      "outputs": []
    }
  ]
}