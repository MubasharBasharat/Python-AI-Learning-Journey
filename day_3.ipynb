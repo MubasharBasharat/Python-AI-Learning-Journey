{
  "nbformat": 4,
  "nbformat_minor": 0,
  "metadata": {
    "colab": {
      "provenance": [],
      "authorship_tag": "ABX9TyNleTKXeeiw2Hbm8vNI2fRP"
    },
    "kernelspec": {
      "name": "python3",
      "display_name": "Python 3"
    },
    "language_info": {
      "name": "python"
    }
  },
  "cells": [
    {
      "cell_type": "code",
      "execution_count": 10,
      "metadata": {
        "colab": {
          "base_uri": "https://localhost:8080/"
        },
        "id": "6Q1BMSfgX7L7",
        "outputId": "bf9d1149-a668-4f1e-b0c9-9a1276efcc2b"
      },
      "outputs": [
        {
          "output_type": "stream",
          "name": "stdout",
          "text": [
            "hello_world\n"
          ]
        }
      ],
      "source": [
        "def say_hello():\n",
        "    print(\"hello_world\")\n",
        "say_hello()"
      ]
    },
    {
      "cell_type": "code",
      "source": [
        "def say_name(name):\n",
        "    print(f\"hello {name}\")\n",
        "say_name(\"zareesha\")"
      ],
      "metadata": {
        "colab": {
          "base_uri": "https://localhost:8080/"
        },
        "id": "ik0baeCeahGb",
        "outputId": "c1998c6b-f062-4ece-da4c-37bbff328230"
      },
      "execution_count": 12,
      "outputs": [
        {
          "output_type": "stream",
          "name": "stdout",
          "text": [
            "hello zareesha\n"
          ]
        }
      ]
    },
    {
      "cell_type": "code",
      "source": [
        "def add(a,b):\n",
        "    return a+b\n",
        "\n",
        "sum=add(\"a\",\"b\")\n",
        "print(f\"sum is {sum}\")"
      ],
      "metadata": {
        "colab": {
          "base_uri": "https://localhost:8080/"
        },
        "id": "7k8rucuhalnM",
        "outputId": "1d3b82af-0421-498f-9b78-253dc77c2a9e"
      },
      "execution_count": 16,
      "outputs": [
        {
          "output_type": "stream",
          "name": "stdout",
          "text": [
            "sum is ab\n"
          ]
        }
      ]
    },
    {
      "cell_type": "code",
      "source": [
        "def greet(name=\"AI Engineer\"):\n",
        "    print(f\"Hello {name}!\")\n",
        "\n",
        "greet()          # Uses default\n",
        "greet(\"Mubashar\") # Overrides default\n"
      ],
      "metadata": {
        "colab": {
          "base_uri": "https://localhost:8080/"
        },
        "id": "W12rTdARbBOy",
        "outputId": "005ca5f5-55a1-4361-a3f4-c5f79cc81e3f"
      },
      "execution_count": 14,
      "outputs": [
        {
          "output_type": "stream",
          "name": "stdout",
          "text": [
            "Hello AI Engineer!\n",
            "Hello Mubashar!\n"
          ]
        }
      ]
    },
    {
      "cell_type": "code",
      "source": [
        "def get_grade(marks):\n",
        "    if marks>90:\n",
        "       print(\"you got A grade\")\n",
        "    else:\n",
        "        print(\"you are fail\")\n",
        "\n",
        "get_grade(89)\n"
      ],
      "metadata": {
        "colab": {
          "base_uri": "https://localhost:8080/"
        },
        "id": "d6P8tOOgbIug",
        "outputId": "7ee3cbaa-3531-490f-9337-a769251d373f"
      },
      "execution_count": 26,
      "outputs": [
        {
          "output_type": "stream",
          "name": "stdout",
          "text": [
            "you are fail\n"
          ]
        }
      ]
    },
    {
      "cell_type": "code",
      "source": [
        "def operations(a,b):\n",
        "    sum=a+b\n",
        "    diffreence=a-b\n",
        "    return sum,diffreence\n",
        "\n",
        "sum,diff=operations(10,5)\n",
        "print(f\"sum is {sum} difference is {diff}\")"
      ],
      "metadata": {
        "colab": {
          "base_uri": "https://localhost:8080/"
        },
        "id": "ufdACS3keLvx",
        "outputId": "bbadf889-2695-40e4-a012-b68f5c31b342"
      },
      "execution_count": 6,
      "outputs": [
        {
          "output_type": "stream",
          "name": "stdout",
          "text": [
            "sum is 15 difference is 5\n"
          ]
        }
      ]
    },
    {
      "cell_type": "code",
      "source": [
        "fruits=[1,2,3,4,5]\n",
        "fruits[0]=10\n",
        "fruits.append(1)\n",
        "fruits.remove(5)\n",
        "print(fruits[0:5\n",
        "             ])"
      ],
      "metadata": {
        "colab": {
          "base_uri": "https://localhost:8080/"
        },
        "id": "esSIZzk4S-eY",
        "outputId": "553a4191-d54a-418d-f58c-c8670118c719"
      },
      "execution_count": 11,
      "outputs": [
        {
          "output_type": "stream",
          "name": "stdout",
          "text": [
            "[10, 2, 3, 4, 1]\n"
          ]
        }
      ]
    },
    {
      "cell_type": "code",
      "source": [
        "tuple1=(10,20)\n",
        "print(tuple1)\n"
      ],
      "metadata": {
        "colab": {
          "base_uri": "https://localhost:8080/"
        },
        "id": "-KPraRlkUBN1",
        "outputId": "4c21c3da-8fe2-4403-9734-3bc70dac8d95"
      },
      "execution_count": 14,
      "outputs": [
        {
          "output_type": "stream",
          "name": "stdout",
          "text": [
            "(10, 20)\n"
          ]
        }
      ]
    },
    {
      "cell_type": "code",
      "source": [
        "student={\n",
        "    \"name\":\"Mubashar\",\n",
        "    \"age\":20,\n",
        "    \"is_ai_learner\":True\n",
        "}\n"
      ],
      "metadata": {
        "colab": {
          "base_uri": "https://localhost:8080/"
        },
        "id": "_B7u8i66UwkS",
        "outputId": "baf379f0-0607-4ff1-978d-210f79c2fcc0"
      },
      "execution_count": 19,
      "outputs": [
        {
          "output_type": "stream",
          "name": "stdout",
          "text": [
            "20\n"
          ]
        }
      ]
    },
    {
      "cell_type": "code",
      "source": [
        "students=[]\n",
        "\n",
        "for i in range(0,3):\n",
        "    s={}\n",
        "    name=input(\"enter student name\")\n",
        "    s[\"name\"]=name\n",
        "    s['age']=23\n",
        "    subjects=[]\n",
        "    for j in range(2):\n",
        "        subject=input(\"enter subject name\")\n",
        "        subjects.append(subject)\n",
        "    s[\"subjects\"]=subjects\n",
        "    students.append(s)\n",
        "\n",
        "\n",
        "print(students)\n",
        "for key, value in s.items():\n",
        "        print(f\"{key}: {value}\")\n"
      ],
      "metadata": {
        "colab": {
          "base_uri": "https://localhost:8080/"
        },
        "id": "FN0B1ivRVUMJ",
        "outputId": "e74c2f75-49ee-475b-a889-29b816d0d784"
      },
      "execution_count": 5,
      "outputs": [
        {
          "output_type": "stream",
          "name": "stdout",
          "text": [
            "enter student nameali1\n",
            "enter subject namesub1\n",
            "enter subject namesub2\n",
            "enter student nameali2\n",
            "enter subject namesub1\n",
            "enter subject namesub2\n",
            "enter student nameali3\n",
            "enter subject namesub1\n",
            "enter subject namesub2\n",
            "[{'name': 'ali1', 'age': 23, 'subjects': ['sub1', 'sub2']}, {'name': 'ali2', 'age': 23, 'subjects': ['sub1', 'sub2']}, {'name': 'ali3', 'age': 23, 'subjects': ['sub1', 'sub2']}]\n",
            "name: ali3\n",
            "age: 23\n",
            "subjects: ['sub1', 'sub2']\n"
          ]
        }
      ]
    },
    {
      "cell_type": "code",
      "source": [],
      "metadata": {
        "id": "97V3e_4mXOBj"
      },
      "execution_count": null,
      "outputs": []
    }
  ]
}