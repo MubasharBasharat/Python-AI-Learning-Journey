{
  "nbformat": 4,
  "nbformat_minor": 0,
  "metadata": {
    "colab": {
      "provenance": [],
      "authorship_tag": "ABX9TyMicYxQ+2IVJjc3e1cxJrOT",
      "include_colab_link": true
    },
    "kernelspec": {
      "name": "python3",
      "display_name": "Python 3"
    },
    "language_info": {
      "name": "python"
    }
  },
  "cells": [
    {
      "cell_type": "markdown",
      "metadata": {
        "id": "view-in-github",
        "colab_type": "text"
      },
      "source": [
        "<a href=\"https://colab.research.google.com/github/MubasharBasharat/Python-AI-Learning-Journey/blob/main/Day2_Conditions_Loops.ipynb\" target=\"_parent\"><img src=\"https://colab.research.google.com/assets/colab-badge.svg\" alt=\"Open In Colab\"/></a>"
      ]
    },
    {
      "cell_type": "code",
      "execution_count": 1,
      "metadata": {
        "colab": {
          "base_uri": "https://localhost:8080/"
        },
        "id": "_DV6V2uky8-m",
        "outputId": "e89b3474-3f7c-4563-fec8-b38ae9ddd672"
      },
      "outputs": [
        {
          "output_type": "stream",
          "name": "stdout",
          "text": [
            "Enter marks to check grade: 87\n",
            "You got B grade\n"
          ]
        }
      ],
      "source": [
        "marks = int(input(\"Enter marks to check grade: \"))\n",
        "if marks <= 100 and marks > 90:\n",
        "    print(\"You got A grade\")\n",
        "elif marks >= 80 and marks <= 90:\n",
        "    print(\"You got B grade\")\n",
        "elif marks >= 70 and marks < 80:\n",
        "    print(\"You got C grade\")\n",
        "elif marks >= 60 and marks < 70:\n",
        "    print(\"You got D grade\")\n",
        "else:\n",
        "    print(\"You got F grade\")\n"
      ]
    },
    {
      "cell_type": "code",
      "source": [
        "i = 0\n",
        "while i <= 20:\n",
        "    if i % 2 == 0:\n",
        "        print(f\"Even number {i}\")\n",
        "    i += 1\n"
      ],
      "metadata": {
        "colab": {
          "base_uri": "https://localhost:8080/"
        },
        "id": "b2GkGueczTRB",
        "outputId": "d94828fa-86cf-4de5-8df6-a4cf856738ad"
      },
      "execution_count": 2,
      "outputs": [
        {
          "output_type": "stream",
          "name": "stdout",
          "text": [
            "Even number 0\n",
            "Even number 2\n",
            "Even number 4\n",
            "Even number 6\n",
            "Even number 8\n",
            "Even number 10\n",
            "Even number 12\n",
            "Even number 14\n",
            "Even number 16\n",
            "Even number 18\n",
            "Even number 20\n"
          ]
        }
      ]
    },
    {
      "cell_type": "code",
      "source": [
        "movies = [\"All in One\"]\n",
        "for movie in movies:\n",
        "    print(movie)\n",
        "\n",
        "movies.append(\"All is Two\")\n",
        "print(movies)\n",
        "\n",
        "movies.remove(\"All is Two\")\n",
        "print(movies)\n"
      ],
      "metadata": {
        "colab": {
          "base_uri": "https://localhost:8080/"
        },
        "id": "xH3ga5S_za67",
        "outputId": "befdb39d-95dc-4f03-e61c-30fb77d1deb4"
      },
      "execution_count": 3,
      "outputs": [
        {
          "output_type": "stream",
          "name": "stdout",
          "text": [
            "All in One\n",
            "['All in One', 'All is Two']\n",
            "['All in One']\n"
          ]
        }
      ]
    },
    {
      "cell_type": "code",
      "source": [
        "numbers = []\n",
        "sum = 0\n",
        "\n",
        "for i in range(5):\n",
        "    number = int(input(\"Enter a number: \"))\n",
        "    numbers.append(number)\n",
        "    sum += number\n",
        "\n",
        "print(f\"Numbers entered: {numbers}\")\n",
        "print(f\"Sum is: {sum}\")\n"
      ],
      "metadata": {
        "colab": {
          "base_uri": "https://localhost:8080/"
        },
        "id": "AKuoi2omzm02",
        "outputId": "a282a36a-86d5-43f2-d230-2fd7c2342010"
      },
      "execution_count": 4,
      "outputs": [
        {
          "output_type": "stream",
          "name": "stdout",
          "text": [
            "Enter a number: 19\n",
            "Enter a number: 20\n",
            "Enter a number: 20\n",
            "Enter a number: 20\n",
            "Enter a number: 1\n",
            "Numbers entered: [19, 20, 20, 20, 1]\n",
            "Sum is: 80\n"
          ]
        }
      ]
    },
    {
      "cell_type": "code",
      "source": [
        "for i in range(1, 11):\n",
        "    print(f\"Square of {i} is {i ** 2}\")\n"
      ],
      "metadata": {
        "colab": {
          "base_uri": "https://localhost:8080/"
        },
        "id": "aeZ5PGHozphj",
        "outputId": "1b3f4c3c-a965-46e7-8f27-2cbb7d7c4ad7"
      },
      "execution_count": 5,
      "outputs": [
        {
          "output_type": "stream",
          "name": "stdout",
          "text": [
            "Square of 1 is 1\n",
            "Square of 2 is 4\n",
            "Square of 3 is 9\n",
            "Square of 4 is 16\n",
            "Square of 5 is 25\n",
            "Square of 6 is 36\n",
            "Square of 7 is 49\n",
            "Square of 8 is 64\n",
            "Square of 9 is 81\n",
            "Square of 10 is 100\n"
          ]
        }
      ]
    },
    {
      "cell_type": "code",
      "source": [],
      "metadata": {
        "id": "mF4t3OzJzzjH"
      },
      "execution_count": null,
      "outputs": []
    }
  ]
}