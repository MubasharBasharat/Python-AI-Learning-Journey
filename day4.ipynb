{
  "nbformat": 4,
  "nbformat_minor": 0,
  "metadata": {
    "colab": {
      "provenance": [],
      "authorship_tag": "ABX9TyPC3BHqjQ3W/NNejFueYlK7"
    },
    "kernelspec": {
      "name": "python3",
      "display_name": "Python 3"
    },
    "language_info": {
      "name": "python"
    }
  },
  "cells": [
    {
      "cell_type": "code",
      "execution_count": 1,
      "metadata": {
        "colab": {
          "base_uri": "https://localhost:8080/"
        },
        "id": "dkdSEuzQNips",
        "outputId": "aaa53edc-5814-45c5-e408-309fa532474a"
      },
      "outputs": [
        {
          "output_type": "stream",
          "name": "stdout",
          "text": [
            "Hi its great doing with machine learning and Deep learning day 4\n"
          ]
        }
      ],
      "source": [
        "print(f\"Hi its great doing with machine learning and Deep learning day 4\")"
      ]
    },
    {
      "cell_type": "code",
      "source": [],
      "metadata": {
        "id": "hcfDTX78OGJ-"
      },
      "execution_count": null,
      "outputs": []
    }
  ]
}